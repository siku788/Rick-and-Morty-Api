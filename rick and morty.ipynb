{
 "cells": [
  {
   "cell_type": "markdown",
   "id": "4f3f1bc9-ecbe-4c1c-b931-0bcca78ade64",
   "metadata": {},
   "source": [
    "## Importing Libraries"
   ]
  },
  {
   "cell_type": "code",
   "execution_count": 7,
   "id": "622b966d-bf7a-49f3-8985-bd7e67ff245e",
   "metadata": {},
   "outputs": [],
   "source": [
    "import requests\n",
    "import pandas as pd\n"
   ]
  },
  {
   "cell_type": "markdown",
   "id": "ee672c7d-8ee5-4f70-8a66-67ec00b5bc3c",
   "metadata": {},
   "source": [
    "### Python Function: `main_request(url, endpoint, page_number)`\n"
   ]
  },
  {
   "cell_type": "code",
   "execution_count": 8,
   "id": "f673eadf-ac06-4c34-8423-263314e189b5",
   "metadata": {},
   "outputs": [],
   "source": [
    "url='https://rickandmortyapi.com/api/'\n",
    "endpoint='character'\n",
    "full_url = f'{url}{endpoint}'"
   ]
  },
  {
   "cell_type": "markdown",
   "id": "02ec27a6-1dde-474d-91c7-4ce58cc16c33",
   "metadata": {},
   "source": [
    "## Checking Response"
   ]
  },
  {
   "cell_type": "code",
   "execution_count": 9,
   "id": "5360df4e-f4b3-4889-aa95-35b91687b1d0",
   "metadata": {},
   "outputs": [
    {
     "data": {
      "text/plain": [
       "'https://rickandmortyapi.com/api/character'"
      ]
     },
     "execution_count": 9,
     "metadata": {},
     "output_type": "execute_result"
    }
   ],
   "source": [
    "full_url"
   ]
  },
  {
   "cell_type": "code",
   "execution_count": 10,
   "id": "848d53fd-5467-4c53-a375-2a3f625daae5",
   "metadata": {},
   "outputs": [
    {
     "ename": "NameError",
     "evalue": "name 'r' is not defined",
     "output_type": "error",
     "traceback": [
      "\u001b[0;31m---------------------------------------------------------------------------\u001b[0m",
      "\u001b[0;31mNameError\u001b[0m                                 Traceback (most recent call last)",
      "Cell \u001b[0;32mIn[10], line 1\u001b[0m\n\u001b[0;32m----> 1\u001b[0m data\u001b[38;5;241m=\u001b[39m\u001b[43mr\u001b[49m\u001b[38;5;241m.\u001b[39mjson()\n",
      "\u001b[0;31mNameError\u001b[0m: name 'r' is not defined"
     ]
    }
   ],
   "source": [
    "data=r.json()"
   ]
  },
  {
   "cell_type": "markdown",
   "id": "83067c12-17d8-4cee-aa8b-45441c57841e",
   "metadata": {},
   "source": [
    "### Python Function: `main_request(url, endpoint, page_number)`\n"
   ]
  },
  {
   "cell_type": "code",
   "execution_count": 11,
   "id": "44560a26-fd69-4ed6-bd0e-018dd0deda27",
   "metadata": {},
   "outputs": [],
   "source": [
    "def main_request(url,endpoint,page_number):\n",
    "    full_url = f'{url}{endpoint}?page={page_number}'\n",
    "    r=requests.get(full_url)\n",
    "    return r.json()"
   ]
  },
  {
   "cell_type": "markdown",
   "id": "c7848715-a765-45df-bbad-45b0965c4761",
   "metadata": {},
   "source": [
    "### Python Function: `get_pages`\n"
   ]
  },
  {
   "cell_type": "code",
   "execution_count": 12,
   "id": "967c1186-b766-446b-9cc9-17d91072bc7f",
   "metadata": {},
   "outputs": [],
   "source": [
    "def get_pages(response):\n",
    "    return response['info']['pages']\n"
   ]
  },
  {
   "cell_type": "markdown",
   "id": "3817afc7-e869-4fa4-91a9-9b3c20f659a9",
   "metadata": {},
   "source": [
    "### Python Function: `parse_json`\n"
   ]
  },
  {
   "cell_type": "code",
   "execution_count": 13,
   "id": "2f9868c4-21d6-4981-a046-381efd7d796b",
   "metadata": {},
   "outputs": [],
   "source": [
    "\n",
    "def parse_json(response):\n",
    "    charlist=[]\n",
    "    for item in response['results']:\n",
    "        char={\n",
    "            'status':item['status'],\n",
    "            'location':item['location'],\n",
    "            \n",
    "            'id':item['id'],\n",
    "        'name': item['name'],  \n",
    "        'no of eps': len(item['episode'])}\n",
    "        charlist.append(char)\n",
    "        # name=data['results'][0]['name']\n",
    "        # episode=data['results'][0]['episode']\n",
    "    return charlist"
   ]
  },
  {
   "cell_type": "markdown",
   "id": "e12094c4-ff99-4a58-9a8f-0823fa17de3b",
   "metadata": {},
   "source": [
    "## Python Code for Paginated API Requests\n"
   ]
  },
  {
   "cell_type": "code",
   "execution_count": 14,
   "id": "486d5f62-fe98-418e-b6f1-54890c09b289",
   "metadata": {},
   "outputs": [
    {
     "name": "stdout",
     "output_type": "stream",
     "text": [
      "1\n",
      "2\n",
      "3\n",
      "4\n",
      "5\n",
      "6\n",
      "7\n",
      "8\n",
      "9\n",
      "10\n",
      "11\n",
      "12\n",
      "13\n",
      "14\n",
      "15\n",
      "16\n",
      "17\n",
      "18\n",
      "19\n",
      "20\n",
      "21\n",
      "22\n",
      "23\n",
      "24\n",
      "25\n",
      "26\n",
      "27\n",
      "28\n",
      "29\n",
      "30\n",
      "31\n",
      "32\n",
      "33\n",
      "34\n",
      "35\n",
      "36\n",
      "37\n",
      "38\n",
      "39\n",
      "40\n",
      "41\n",
      "42\n"
     ]
    },
    {
     "data": {
      "text/plain": [
       "826"
      ]
     },
     "execution_count": 14,
     "metadata": {},
     "output_type": "execute_result"
    }
   ],
   "source": [
    "main_list=[]\n",
    "data=main_request(url,endpoint,1)\n",
    "for page_number in range(1,get_pages(data)+1):\n",
    "    print(page_number)\n",
    "    output=parse_json(main_request(url,endpoint,page_number))\n",
    "    main_list.extend(output)\n",
    "\n",
    "len(main_list)"
   ]
  },
  {
   "cell_type": "code",
   "execution_count": 15,
   "id": "a580b832-89c4-45c5-af65-d40596ac5a12",
   "metadata": {},
   "outputs": [],
   "source": [
    "pages=data['info']['pages']\n",
    "name=data['results'][0]['name']\n",
    "episode=data['results'][0]['episode']"
   ]
  },
  {
   "cell_type": "markdown",
   "id": "5c1a98cf-87f6-4607-a3ec-f2d740151cbb",
   "metadata": {},
   "source": [
    "## Creating a DataFrame and Saving to CSV\n",
    "\n"
   ]
  },
  {
   "cell_type": "code",
   "execution_count": 16,
   "id": "6606ffe6-73de-4618-9496-5a3c766df5e4",
   "metadata": {},
   "outputs": [],
   "source": [
    "df=pd.DataFrame(main_list)\n",
    "df.to_csv(\"rick and morty.csv\")"
   ]
  },
  {
   "cell_type": "markdown",
   "id": "35be8b85-901d-478f-9796-8bd32113969b",
   "metadata": {},
   "source": [
    "## Checking df"
   ]
  },
  {
   "cell_type": "code",
   "execution_count": 17,
   "id": "b050c940-b2af-42ab-8929-3fe1498b5313",
   "metadata": {},
   "outputs": [
    {
     "data": {
      "text/html": [
       "<div>\n",
       "<style scoped>\n",
       "    .dataframe tbody tr th:only-of-type {\n",
       "        vertical-align: middle;\n",
       "    }\n",
       "\n",
       "    .dataframe tbody tr th {\n",
       "        vertical-align: top;\n",
       "    }\n",
       "\n",
       "    .dataframe thead th {\n",
       "        text-align: right;\n",
       "    }\n",
       "</style>\n",
       "<table border=\"1\" class=\"dataframe\">\n",
       "  <thead>\n",
       "    <tr style=\"text-align: right;\">\n",
       "      <th></th>\n",
       "      <th>status</th>\n",
       "      <th>location</th>\n",
       "      <th>id</th>\n",
       "      <th>name</th>\n",
       "      <th>no of eps</th>\n",
       "    </tr>\n",
       "  </thead>\n",
       "  <tbody>\n",
       "    <tr>\n",
       "      <th>0</th>\n",
       "      <td>Alive</td>\n",
       "      <td>{'name': 'Citadel of Ricks', 'url': 'https://r...</td>\n",
       "      <td>1</td>\n",
       "      <td>Rick Sanchez</td>\n",
       "      <td>51</td>\n",
       "    </tr>\n",
       "    <tr>\n",
       "      <th>1</th>\n",
       "      <td>Alive</td>\n",
       "      <td>{'name': 'Citadel of Ricks', 'url': 'https://r...</td>\n",
       "      <td>2</td>\n",
       "      <td>Morty Smith</td>\n",
       "      <td>51</td>\n",
       "    </tr>\n",
       "    <tr>\n",
       "      <th>2</th>\n",
       "      <td>Alive</td>\n",
       "      <td>{'name': 'Earth (Replacement Dimension)', 'url...</td>\n",
       "      <td>3</td>\n",
       "      <td>Summer Smith</td>\n",
       "      <td>42</td>\n",
       "    </tr>\n",
       "    <tr>\n",
       "      <th>3</th>\n",
       "      <td>Alive</td>\n",
       "      <td>{'name': 'Earth (Replacement Dimension)', 'url...</td>\n",
       "      <td>4</td>\n",
       "      <td>Beth Smith</td>\n",
       "      <td>42</td>\n",
       "    </tr>\n",
       "    <tr>\n",
       "      <th>4</th>\n",
       "      <td>Alive</td>\n",
       "      <td>{'name': 'Earth (Replacement Dimension)', 'url...</td>\n",
       "      <td>5</td>\n",
       "      <td>Jerry Smith</td>\n",
       "      <td>39</td>\n",
       "    </tr>\n",
       "    <tr>\n",
       "      <th>...</th>\n",
       "      <td>...</td>\n",
       "      <td>...</td>\n",
       "      <td>...</td>\n",
       "      <td>...</td>\n",
       "      <td>...</td>\n",
       "    </tr>\n",
       "    <tr>\n",
       "      <th>821</th>\n",
       "      <td>unknown</td>\n",
       "      <td>{'name': 'Earth (Unknown dimension)', 'url': '...</td>\n",
       "      <td>822</td>\n",
       "      <td>Young Jerry</td>\n",
       "      <td>1</td>\n",
       "    </tr>\n",
       "    <tr>\n",
       "      <th>822</th>\n",
       "      <td>unknown</td>\n",
       "      <td>{'name': 'Earth (Unknown dimension)', 'url': '...</td>\n",
       "      <td>823</td>\n",
       "      <td>Young Beth</td>\n",
       "      <td>1</td>\n",
       "    </tr>\n",
       "    <tr>\n",
       "      <th>823</th>\n",
       "      <td>unknown</td>\n",
       "      <td>{'name': 'Earth (Unknown dimension)', 'url': '...</td>\n",
       "      <td>824</td>\n",
       "      <td>Young Beth</td>\n",
       "      <td>1</td>\n",
       "    </tr>\n",
       "    <tr>\n",
       "      <th>824</th>\n",
       "      <td>unknown</td>\n",
       "      <td>{'name': 'Earth (Unknown dimension)', 'url': '...</td>\n",
       "      <td>825</td>\n",
       "      <td>Young Jerry</td>\n",
       "      <td>1</td>\n",
       "    </tr>\n",
       "    <tr>\n",
       "      <th>825</th>\n",
       "      <td>Alive</td>\n",
       "      <td>{'name': 'Earth (Replacement Dimension)', 'url...</td>\n",
       "      <td>826</td>\n",
       "      <td>Butter Robot</td>\n",
       "      <td>1</td>\n",
       "    </tr>\n",
       "  </tbody>\n",
       "</table>\n",
       "<p>826 rows × 5 columns</p>\n",
       "</div>"
      ],
      "text/plain": [
       "      status                                           location   id  \\\n",
       "0      Alive  {'name': 'Citadel of Ricks', 'url': 'https://r...    1   \n",
       "1      Alive  {'name': 'Citadel of Ricks', 'url': 'https://r...    2   \n",
       "2      Alive  {'name': 'Earth (Replacement Dimension)', 'url...    3   \n",
       "3      Alive  {'name': 'Earth (Replacement Dimension)', 'url...    4   \n",
       "4      Alive  {'name': 'Earth (Replacement Dimension)', 'url...    5   \n",
       "..       ...                                                ...  ...   \n",
       "821  unknown  {'name': 'Earth (Unknown dimension)', 'url': '...  822   \n",
       "822  unknown  {'name': 'Earth (Unknown dimension)', 'url': '...  823   \n",
       "823  unknown  {'name': 'Earth (Unknown dimension)', 'url': '...  824   \n",
       "824  unknown  {'name': 'Earth (Unknown dimension)', 'url': '...  825   \n",
       "825    Alive  {'name': 'Earth (Replacement Dimension)', 'url...  826   \n",
       "\n",
       "             name  no of eps  \n",
       "0    Rick Sanchez         51  \n",
       "1     Morty Smith         51  \n",
       "2    Summer Smith         42  \n",
       "3      Beth Smith         42  \n",
       "4     Jerry Smith         39  \n",
       "..            ...        ...  \n",
       "821   Young Jerry          1  \n",
       "822    Young Beth          1  \n",
       "823    Young Beth          1  \n",
       "824   Young Jerry          1  \n",
       "825  Butter Robot          1  \n",
       "\n",
       "[826 rows x 5 columns]"
      ]
     },
     "execution_count": 17,
     "metadata": {},
     "output_type": "execute_result"
    }
   ],
   "source": [
    "df"
   ]
  },
  {
   "cell_type": "code",
   "execution_count": null,
   "id": "fa76b66c-f54f-4487-a511-e553b8cc7942",
   "metadata": {},
   "outputs": [],
   "source": []
  },
  {
   "cell_type": "code",
   "execution_count": null,
   "id": "5d004862-d9ed-4995-bc1f-251975646e86",
   "metadata": {},
   "outputs": [],
   "source": []
  }
 ],
 "metadata": {
  "kernelspec": {
   "display_name": "Python 3 (ipykernel)",
   "language": "python",
   "name": "python3"
  },
  "language_info": {
   "codemirror_mode": {
    "name": "ipython",
    "version": 3
   },
   "file_extension": ".py",
   "mimetype": "text/x-python",
   "name": "python",
   "nbconvert_exporter": "python",
   "pygments_lexer": "ipython3",
   "version": "3.9.17"
  }
 },
 "nbformat": 4,
 "nbformat_minor": 5
}
